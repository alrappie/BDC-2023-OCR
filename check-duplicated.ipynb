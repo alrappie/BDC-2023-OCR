{
 "cells": [
  {
   "cell_type": "code",
   "execution_count": 1,
   "metadata": {},
   "outputs": [
    {
     "name": "stdout",
     "output_type": "stream",
     "text": [
      "difPy preparing files: [794/794] [100%]\n",
      "difPy comparing images: [792/792] [100%]\n",
      "Found 28 pair(s) of duplicate image(s) in 67.2236 seconds.\n"
     ]
    }
   ],
   "source": [
    "from difPy import dif\n",
    "search = dif('./04-dataset_640/',fast_search=False)"
   ]
  },
  {
   "cell_type": "code",
   "execution_count": 2,
   "metadata": {},
   "outputs": [
    {
     "data": {
      "text/plain": [
       "{48341401890611726859964710561874751826: {'location': '04-dataset_640\\\\test-folder\\\\test\\\\DataTest100.png',\n",
       "  'matches': {98938398877862703290603995464771107714: {'location': '04-dataset_640\\\\train-folder\\\\train\\\\DataTrain702.png',\n",
       "    'mse': 0.0}}},\n",
       " 66180803594365990145844199533005097102: {'location': '04-dataset_640\\\\test-folder\\\\test\\\\DataTest13.png',\n",
       "  'matches': {193612760599837522978067801324501497544: {'location': '04-dataset_640\\\\train-folder\\\\train\\\\DataTrain85.png',\n",
       "    'mse': 0.0}}},\n",
       " 133422623307269755940429704791313686691: {'location': '04-dataset_640\\\\test-folder\\\\test\\\\DataTest15.png',\n",
       "  'matches': {120217816566315376889654213254652024721: {'location': '04-dataset_640\\\\train-folder\\\\train\\\\DataTrain635.png',\n",
       "    'mse': 0.0}}},\n",
       " 225679591599031834449526540096458599243: {'location': '04-dataset_640\\\\test-folder\\\\test\\\\DataTest2.png',\n",
       "  'matches': {87857376767865676155315314230867690817: {'location': '04-dataset_640\\\\train-folder\\\\train\\\\DataTrain157.png',\n",
       "    'mse': 0.0}}},\n",
       " 109450448647868174156576880425134572898: {'location': '04-dataset_640\\\\test-folder\\\\test\\\\DataTest23.png',\n",
       "  'matches': {217737083644114318369996858992279925916: {'location': '04-dataset_640\\\\train-folder\\\\train\\\\DataTrain300.png',\n",
       "    'mse': 0.0}}},\n",
       " 194086773132761603831784926598110355319: {'location': '04-dataset_640\\\\test-folder\\\\test\\\\DataTest26.png',\n",
       "  'matches': {94696944030607041524612835179452560715: {'location': '04-dataset_640\\\\train-folder\\\\train\\\\DataTrain208.png',\n",
       "    'mse': 0.0}}},\n",
       " 222921253428035662854501277929349646332: {'location': '04-dataset_640\\\\test-folder\\\\test\\\\DataTest28.png',\n",
       "  'matches': {160092118459051748063456246034328742004: {'location': '04-dataset_640\\\\train-folder\\\\train\\\\DataTrain89.png',\n",
       "    'mse': 0.0}}},\n",
       " 73399583303543724706807504121272936558: {'location': '04-dataset_640\\\\test-folder\\\\test\\\\DataTest30.png',\n",
       "  'matches': {8185814387534640680854124314959543498: {'location': '04-dataset_640\\\\train-folder\\\\train\\\\DataTrain57.png',\n",
       "    'mse': 0.0}}},\n",
       " 186610726808678370636384765438931536391: {'location': '04-dataset_640\\\\test-folder\\\\test\\\\DataTest31.png',\n",
       "  'matches': {330728171065183791078894711216697971995: {'location': '04-dataset_640\\\\train-folder\\\\train\\\\DataTrain171.png',\n",
       "    'mse': 0.0}}},\n",
       " 237107134749630083046500245653761873815: {'location': '04-dataset_640\\\\test-folder\\\\test\\\\DataTest32.png',\n",
       "  'matches': {227413608973928987261952053538574073726: {'location': '04-dataset_640\\\\train-folder\\\\train\\\\DataTrain539.png',\n",
       "    'mse': 0.0}}},\n",
       " 212631466510158210117232673220332902155: {'location': '04-dataset_640\\\\test-folder\\\\test\\\\DataTest38.png',\n",
       "  'matches': {243878831057932857888388455168096761866: {'location': '04-dataset_640\\\\train-folder\\\\train\\\\DataTrain194.png',\n",
       "    'mse': 0.0}}},\n",
       " 63877266717150035619431216239890390585: {'location': '04-dataset_640\\\\test-folder\\\\test\\\\DataTest39.png',\n",
       "  'matches': {181544038585867413602221779919454972707: {'location': '04-dataset_640\\\\train-folder\\\\train\\\\DataTrain576.png',\n",
       "    'mse': 0.0}}},\n",
       " 35338388325354251432288835862204141819: {'location': '04-dataset_640\\\\test-folder\\\\test\\\\DataTest4.png',\n",
       "  'matches': {71041830327844048508859827247510026206: {'location': '04-dataset_640\\\\train-folder\\\\train\\\\DataTrain330.png',\n",
       "    'mse': 0.0}}},\n",
       " 337832249790189347532735220456822261952: {'location': '04-dataset_640\\\\test-folder\\\\test\\\\DataTest42.png',\n",
       "  'matches': {148309247908288952410354884646420472763: {'location': '04-dataset_640\\\\test-folder\\\\test\\\\DataTest99.png',\n",
       "    'mse': 0.0}}},\n",
       " 28926805465429581648887174098363382353: {'location': '04-dataset_640\\\\test-folder\\\\test\\\\DataTest47.png',\n",
       "  'matches': {3024979787811335923936904003566172003: {'location': '04-dataset_640\\\\train-folder\\\\train\\\\DataTrain251.png',\n",
       "    'mse': 0.0}}},\n",
       " 285924054826464368956427906391203207170: {'location': '04-dataset_640\\\\test-folder\\\\test\\\\DataTest51.png',\n",
       "  'matches': {120416263647589901566291408389191834959: {'location': '04-dataset_640\\\\train-folder\\\\train\\\\DataTrain612.png',\n",
       "    'mse': 0.0}}},\n",
       " 316008839537031676718065402802490118227: {'location': '04-dataset_640\\\\test-folder\\\\test\\\\DataTest53.png',\n",
       "  'matches': {30849244250353372419190275663338037192: {'location': '04-dataset_640\\\\train-folder\\\\train\\\\DataTrain476.png',\n",
       "    'mse': 0.0}}},\n",
       " 31552920649770515447541877815687826306: {'location': '04-dataset_640\\\\test-folder\\\\test\\\\DataTest54.png',\n",
       "  'matches': {251607130029468783260256897976265193982: {'location': '04-dataset_640\\\\test-folder\\\\test\\\\DataTest79.png',\n",
       "    'mse': 0.0}}},\n",
       " 118164497222761378520738205670177319433: {'location': '04-dataset_640\\\\test-folder\\\\test\\\\DataTest56.png',\n",
       "  'matches': {314548081588126624758467071922017487591: {'location': '04-dataset_640\\\\train-folder\\\\train\\\\DataTrain80.png',\n",
       "    'mse': 0.0}}},\n",
       " 284966212988738540013651023863855111206: {'location': '04-dataset_640\\\\test-folder\\\\test\\\\DataTest57.png',\n",
       "  'matches': {187811971190883150635718497679108684175: {'location': '04-dataset_640\\\\train-folder\\\\train\\\\DataTrain774.png',\n",
       "    'mse': 0.0}}},\n",
       " 297375656848352629904570456207992389674: {'location': '04-dataset_640\\\\test-folder\\\\test\\\\DataTest58.png',\n",
       "  'matches': {269084280862773905632333510438368027133: {'location': '04-dataset_640\\\\train-folder\\\\train\\\\DataTrain407.png',\n",
       "    'mse': 0.0}}},\n",
       " 167334889559048847882739584968548029676: {'location': '04-dataset_640\\\\test-folder\\\\test\\\\DataTest7.png',\n",
       "  'matches': {262023083848610869182106834934617062187: {'location': '04-dataset_640\\\\train-folder\\\\train\\\\DataTrain519.png',\n",
       "    'mse': 0.0}}},\n",
       " 31845883398780172132253860345917073559: {'location': '04-dataset_640\\\\test-folder\\\\test\\\\DataTest70.png',\n",
       "  'matches': {157405564891148194600344713541784935806: {'location': '04-dataset_640\\\\train-folder\\\\train\\\\DataTrain596.png',\n",
       "    'mse': 0.0}}},\n",
       " 155454569981922657372450715548175200097: {'location': '04-dataset_640\\\\test-folder\\\\test\\\\DataTest72.png',\n",
       "  'matches': {204385278589635934792337637108495651747: {'location': '04-dataset_640\\\\train-folder\\\\train\\\\DataTrain680.png',\n",
       "    'mse': 0.0}}},\n",
       " 241456621409167061211249016188340677616: {'location': '04-dataset_640\\\\test-folder\\\\test\\\\DataTest80.png',\n",
       "  'matches': {182821430413301280711336526848380202883: {'location': '04-dataset_640\\\\train-folder\\\\train\\\\DataTrain756.png',\n",
       "    'mse': 0.0}}},\n",
       " 161682198084644571879889614823416989056: {'location': '04-dataset_640\\\\test-folder\\\\test\\\\DataTest81.png',\n",
       "  'matches': {139220013565971681286656321552161121140: {'location': '04-dataset_640\\\\train-folder\\\\train\\\\DataTrain126.png',\n",
       "    'mse': 0.0}}},\n",
       " 310409333790385432931138433182688609034: {'location': '04-dataset_640\\\\test-folder\\\\test\\\\DataTest82.png',\n",
       "  'matches': {301613799145425939939630473488848644934: {'location': '04-dataset_640\\\\train-folder\\\\train\\\\DataTrain700.png',\n",
       "    'mse': 0.0}}},\n",
       " 241695771639885646936258618508767692374: {'location': '04-dataset_640\\\\test-folder\\\\test\\\\DataTest94.png',\n",
       "  'matches': {141182146376714960838704498073571015604: {'location': '04-dataset_640\\\\train-folder\\\\train\\\\DataTrain202.png',\n",
       "    'mse': 0.0}}}}"
      ]
     },
     "execution_count": 2,
     "metadata": {},
     "output_type": "execute_result"
    }
   ],
   "source": [
    "search.result"
   ]
  }
 ],
 "metadata": {
  "kernelspec": {
   "display_name": "base",
   "language": "python",
   "name": "python3"
  },
  "language_info": {
   "codemirror_mode": {
    "name": "ipython",
    "version": 3
   },
   "file_extension": ".py",
   "mimetype": "text/x-python",
   "name": "python",
   "nbconvert_exporter": "python",
   "pygments_lexer": "ipython3",
   "version": "3.9.7"
  },
  "orig_nbformat": 4
 },
 "nbformat": 4,
 "nbformat_minor": 2
}
